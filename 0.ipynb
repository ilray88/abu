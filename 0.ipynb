{
 "cells": [
  {
   "cell_type": "code",
   "execution_count": 1,
   "metadata": {
    "collapsed": true
   },
   "outputs": [
    {
     "name": "stderr",
     "output_type": "stream",
     "text": [
      "You are using pip version 9.0.1, however version 21.3.1 is available.\n",
      "You should consider upgrading via the 'python -m pip install --upgrade pip' command.\n"
     ]
    }
   ],
   "source": [
    "!pip freeze > requirements.txt\n",
    "!conda env export > environment.yaml"
   ]
  },
  {
   "cell_type": "raw",
   "source": [
    "#conda env create -f environment.yaml"
   ],
   "metadata": {
    "collapsed": false,
    "pycharm": {
     "name": "#%% raw\n"
    }
   }
  },
  {
   "cell_type": "code",
   "execution_count": 2,
   "outputs": [
    {
     "name": "stdout",
     "output_type": "stream",
     "text": [
      "alabaster (0.7.10)\n",
      "anaconda-client (1.6.3)\n",
      "anaconda-navigator (1.6.2)\n",
      "anaconda-project (0.6.0)\n",
      "asn1crypto (0.22.0)\n",
      "astroid (1.4.9)\n",
      "astropy (1.3.2)\n",
      "Babel (2.4.0)\n",
      "backports.shutil-get-terminal-size (1.0.0)\n",
      "beautifulsoup4 (4.6.0)\n",
      "bitarray (0.8.1)\n",
      "blaze (0.10.1)\n",
      "bleach (1.5.0)\n",
      "bokeh (0.12.5)\n",
      "boto (2.46.1)\n",
      "Bottleneck (1.2.1)\n",
      "cffi (1.10.0)\n",
      "chardet (3.0.3)\n",
      "click (6.7)\n",
      "cloudpickle (0.2.2)\n",
      "clyent (1.2.2)\n",
      "colorama (0.3.9)\n",
      "comtypes (1.1.2)\n",
      "conda (4.3.21)\n",
      "contextlib2 (0.5.5)\n",
      "cryptography (1.8.1)\n",
      "cycler (0.10.0)\n",
      "Cython (0.25.2)\n",
      "cytoolz (0.8.2)\n",
      "dask (0.14.3)\n",
      "datashape (0.5.4)\n",
      "decorator (4.0.11)\n",
      "distributed (1.16.3)\n",
      "docutils (0.13.1)\n",
      "entrypoints (0.2.2)\n",
      "et-xmlfile (1.0.1)\n",
      "fastcache (1.0.2)\n",
      "ffn (0.3.5)\n",
      "Flask (0.12.2)\n",
      "Flask-Cors (3.0.2)\n",
      "future (0.18.2)\n",
      "gevent (1.2.1)\n",
      "greenlet (0.4.12)\n",
      "h5py (2.7.0)\n",
      "HeapDict (1.0.0)\n",
      "html5lib (0.999)\n",
      "idna (2.5)\n",
      "imagesize (0.7.1)\n",
      "ipykernel (4.6.1)\n",
      "ipython (5.3.0)\n",
      "ipython-genutils (0.2.0)\n",
      "ipywidgets (6.0.0)\n",
      "isort (4.2.5)\n",
      "itsdangerous (0.24)\n",
      "jdcal (1.3)\n",
      "jedi (0.10.2)\n",
      "Jinja2 (2.9.6)\n",
      "jsonschema (2.6.0)\n",
      "jupyter (1.0.0)\n",
      "jupyter-client (5.0.1)\n",
      "jupyter-console (5.1.0)\n",
      "jupyter-core (4.3.0)\n",
      "lazy-object-proxy (1.2.2)\n",
      "llvmlite (0.18.0)\n",
      "locket (0.2.0)\n",
      "lxml (3.7.3)\n",
      "MarkupSafe (0.23)\n",
      "matplotlib (2.0.2)\n",
      "menuinst (1.4.7)\n",
      "mistune (0.7.4)\n",
      "mpmath (0.19)\n",
      "msgpack-python (0.4.8)\n",
      "multipledispatch (0.4.9)\n",
      "navigator-updater (0.1.0)\n",
      "nbconvert (5.1.1)\n",
      "nbformat (4.3.0)\n",
      "networkx (1.11)\n",
      "nltk (3.2.3)\n",
      "nose (1.3.7)\n",
      "notebook (5.0.0)\n",
      "numba (0.33.0)\n",
      "numexpr (2.6.2)\n",
      "numpy (1.12.1)\n",
      "numpydoc (0.6.0)\n",
      "odo (0.5.0)\n",
      "olefile (0.44)\n",
      "openpyxl (2.4.7)\n",
      "packaging (16.8)\n",
      "pandas (0.20.1)\n",
      "pandas-datareader (0.9.0)\n",
      "pandocfilters (1.4.1)\n",
      "partd (0.3.8)\n",
      "path.py (10.3.1)\n",
      "pathlib2 (2.2.1)\n",
      "patsy (0.4.1)\n",
      "pep8 (1.7.0)\n",
      "pickleshare (0.7.4)\n",
      "Pillow (4.1.1)\n",
      "pip (9.0.1)\n",
      "ply (3.10)\n",
      "prompt-toolkit (1.0.14)\n",
      "psutil (5.2.2)\n",
      "py (1.4.33)\n",
      "pycosat (0.6.2)\n",
      "pycparser (2.17)\n",
      "pycrypto (2.6.1)\n",
      "pycurl (7.43.0)\n",
      "pyflakes (1.5.0)\n",
      "Pygments (2.2.0)\n",
      "pylint (1.6.4)\n",
      "pyodbc (4.0.16)\n",
      "pyOpenSSL (17.0.0)\n",
      "pyparsing (2.1.4)\n",
      "pytest (3.0.7)\n",
      "python-dateutil (2.6.0)\n",
      "pytz (2017.2)\n",
      "PyWavelets (0.5.2)\n",
      "pywin32 (220)\n",
      "PyYAML (3.12)\n",
      "pyzmq (16.0.2)\n",
      "QtAwesome (0.4.4)\n",
      "qtconsole (4.3.0)\n",
      "QtPy (1.2.1)\n",
      "requests (2.14.2)\n",
      "rope-py3k (0.9.4.post1)\n",
      "scikit-image (0.13.0)\n",
      "scikit-learn (0.18.1)\n",
      "scipy (0.19.0)\n",
      "seaborn (0.7.1)\n",
      "setuptools (27.2.0)\n",
      "simplegeneric (0.8.1)\n",
      "singledispatch (3.4.0.3)\n",
      "six (1.10.0)\n",
      "snowballstemmer (1.2.1)\n",
      "sortedcollections (0.5.3)\n",
      "sortedcontainers (1.5.7)\n",
      "sphinx (1.5.6)\n",
      "spyder (3.1.4)\n",
      "SQLAlchemy (1.1.9)\n",
      "statsmodels (0.8.0)\n",
      "sympy (1.0)\n",
      "tables (3.2.2)\n",
      "tabulate (0.8.9)\n",
      "tblib (1.3.2)\n",
      "testpath (0.3)\n",
      "toolz (0.8.2)\n",
      "tornado (4.5.1)\n",
      "traitlets (4.3.2)\n",
      "unicodecsv (0.14.1)\n",
      "wcwidth (0.1.7)\n",
      "Werkzeug (0.12.2)\n",
      "wheel (0.29.0)\n",
      "widgetsnbextension (2.0.0)\n",
      "win-unicode-console (0.5)\n",
      "wrapt (1.10.10)\n",
      "xlrd (1.0.0)\n",
      "XlsxWriter (0.9.6)\n",
      "xlwings (0.10.4)\n",
      "xlwt (1.2.0)\n",
      "zict (0.1.2)\n"
     ]
    },
    {
     "name": "stderr",
     "output_type": "stream",
     "text": [
      "DEPRECATION: The default format will switch to columns in the future. You can use --format=(legacy|columns) (or define a format=(legacy|columns) in your pip.conf under the [list] section) to disable this warning.\n",
      "You are using pip version 9.0.1, however version 21.3.1 is available.\n",
      "You should consider upgrading via the 'python -m pip install --upgrade pip' command.\n"
     ]
    }
   ],
   "source": [
    "import os\n",
    "os.environ[\"http_proxy\"] = \"http://192.168.5.1:7890\"\n",
    "os.environ[\"https_proxy\"] = \"http://192.168.5.1:7890\"\n",
    "\n",
    "!pip list"
   ],
   "metadata": {
    "collapsed": false,
    "pycharm": {
     "name": "#%%\n"
    }
   }
  },
  {
   "cell_type": "code",
   "execution_count": 4,
   "outputs": [
    {
     "data": {
      "text/plain": "1"
     },
     "execution_count": 4,
     "metadata": {},
     "output_type": "execute_result"
    }
   ],
   "source": [
    "import win32api,win32con\n",
    "##提醒OK消息框\n",
    "win32api.MessageBox(0, \"运行完成\", \"提醒\",win32con.MB_ICONWARNING)\n"
   ],
   "metadata": {
    "collapsed": false,
    "pycharm": {
     "name": "#%%\n"
    }
   }
  },
  {
   "cell_type": "code",
   "execution_count": null,
   "outputs": [],
   "source": [],
   "metadata": {
    "collapsed": false,
    "pycharm": {
     "name": "#%%\n",
     "is_executing": true
    }
   }
  },
  {
   "cell_type": "code",
   "execution_count": 4,
   "outputs": [
    {
     "name": "stdout",
     "output_type": "stream",
     "text": [
      "Looking in indexes: https://pypi.python.org/simple\n",
      "Requirement already satisfied: mplfinance in d:\\0ilraypan\\python_work\\env\\abu\\lib\\site-packages (0.12.7a17)\n",
      "Requirement already satisfied: matplotlib in d:\\0ilraypan\\python_work\\env\\abu\\lib\\site-packages (from mplfinance) (3.3.4)\n",
      "Requirement already satisfied: pandas in d:\\0ilraypan\\python_work\\env\\abu\\lib\\site-packages (from mplfinance) (1.1.5)\n",
      "Requirement already satisfied: python-dateutil>=2.1 in d:\\0ilraypan\\python_work\\env\\abu\\lib\\site-packages (from matplotlib->mplfinance) (2.8.2)\n",
      "Requirement already satisfied: numpy>=1.15 in d:\\0ilraypan\\python_work\\env\\abu\\lib\\site-packages (from matplotlib->mplfinance) (1.19.5)\n",
      "Requirement already satisfied: cycler>=0.10 in d:\\0ilraypan\\python_work\\env\\abu\\lib\\site-packages (from matplotlib->mplfinance) (0.11.0)\n",
      "Requirement already satisfied: kiwisolver>=1.0.1 in d:\\0ilraypan\\python_work\\env\\abu\\lib\\site-packages (from matplotlib->mplfinance) (1.3.1)\n",
      "Requirement already satisfied: pillow>=6.2.0 in d:\\0ilraypan\\python_work\\env\\abu\\lib\\site-packages (from matplotlib->mplfinance) (8.4.0)\n",
      "Requirement already satisfied: pyparsing!=2.0.4,!=2.1.2,!=2.1.6,>=2.0.3 in d:\\0ilraypan\\python_work\\env\\abu\\lib\\site-packages (from matplotlib->mplfinance) (2.4.7)\n",
      "Requirement already satisfied: pytz>=2017.2 in d:\\0ilraypan\\python_work\\env\\abu\\lib\\site-packages (from pandas->mplfinance) (2021.3)\n",
      "Requirement already satisfied: six>=1.5 in d:\\0ilraypan\\python_work\\env\\abu\\lib\\site-packages (from python-dateutil>=2.1->matplotlib->mplfinance) (1.16.0)\n"
     ]
    }
   ],
   "source": [
    "import os\n",
    "os.environ[\"http_proxy\"] = \"http://192.168.5.1:7890\"\n",
    "os.environ[\"https_proxy\"] = \"http://192.168.5.1:7890\"\n",
    "\n",
    "!pip install --upgrade mplfinance\n"
   ],
   "metadata": {
    "collapsed": false,
    "pycharm": {
     "name": "#%%\n"
    }
   }
  },
  {
   "cell_type": "code",
   "execution_count": 10,
   "outputs": [
    {
     "name": "stdout",
     "output_type": "stream",
     "text": [
      "                                             0\n",
      "0                  ,Open,High,Low,Close,Volume\n",
      "1                                         Date\n",
      "2  2020/4/1,0:00:00,23646,23646,23622,23624,74\n",
      "3  2020/4/1,0:01:00,23623,23627,23612,23627,68\n",
      "4  2020/4/1,0:02:00,23626,23631,23612,23615,59\n",
      "                                              0\n",
      "28  2020/4/1,0:26:00,23552,23562,23546,23558,55\n",
      "29  2020/4/1,0:27:00,23556,23563,23548,23551,82\n",
      "30  2020/4/1,0:28:00,23550,23557,23541,23551,61\n",
      "31  2020/4/1,0:29:00,23551,23570,23550,23569,67\n",
      "32  2020/4/1,0:29:00,23551,23570,23550,23569,67\n"
     ]
    }
   ],
   "source": [
    "import pandas as pd\n",
    "import numpy as np\n",
    "df=pd.read_csv(r'D:\\0ilraypan\\git_jia\\python_abu\\11.csv',header=None,sep=' ') #filename可以直接从盘符开始，标明每一级的文件夹直到csv文件，header=None表示头部为空，sep=' '表示数据间使用空格作为分隔符，如果分隔符是逗号，只需换成 ‘，’即可。\n",
    "print(df.head())\n",
    "print(df.tail())\n",
    "#作为示例，输出CSV文件的前5行和最后5行，这是pandas默认的输出5行，可以根据需要自己设定输出几行的值"
   ],
   "metadata": {
    "collapsed": false,
    "pycharm": {
     "name": "#%%\n"
    }
   }
  },
  {
   "cell_type": "code",
   "execution_count": 11,
   "outputs": [
    {
     "ename": "TypeError",
     "evalue": "Expect data.index as DatetimeIndex",
     "output_type": "error",
     "traceback": [
      "\u001B[1;31m---------------------------------------------------------------------------\u001B[0m",
      "\u001B[1;31mTypeError\u001B[0m                                 Traceback (most recent call last)",
      "\u001B[1;32m<ipython-input-11-5a8d306a97ec>\u001B[0m in \u001B[0;36m<module>\u001B[1;34m\u001B[0m\n\u001B[0;32m      1\u001B[0m \u001B[1;32mimport\u001B[0m \u001B[0mmplfinance\u001B[0m \u001B[1;32mas\u001B[0m \u001B[0mmpf\u001B[0m\u001B[1;33m\u001B[0m\u001B[1;33m\u001B[0m\u001B[0m\n\u001B[0;32m      2\u001B[0m \u001B[0mdata\u001B[0m \u001B[1;33m=\u001B[0m \u001B[0mdf\u001B[0m\u001B[1;33m\u001B[0m\u001B[1;33m\u001B[0m\u001B[0m\n\u001B[1;32m----> 3\u001B[1;33m \u001B[0mmpf\u001B[0m\u001B[1;33m.\u001B[0m\u001B[0mplot\u001B[0m\u001B[1;33m(\u001B[0m\u001B[0mdata\u001B[0m\u001B[1;33m)\u001B[0m\u001B[1;33m\u001B[0m\u001B[1;33m\u001B[0m\u001B[0m\n\u001B[0m\u001B[0;32m      4\u001B[0m \u001B[1;33m\u001B[0m\u001B[0m\n\u001B[0;32m      5\u001B[0m \u001B[1;33m\u001B[0m\u001B[0m\n",
      "\u001B[1;32mD:\\0ilraypan\\python_work\\env\\abu\\lib\\site-packages\\mplfinance\\plotting.py\u001B[0m in \u001B[0;36mplot\u001B[1;34m(data, **kwargs)\u001B[0m\n\u001B[0;32m    296\u001B[0m     \u001B[0mconfig\u001B[0m\u001B[1;33m[\u001B[0m\u001B[1;34m'type'\u001B[0m\u001B[1;33m]\u001B[0m \u001B[1;33m=\u001B[0m \u001B[0m_get_valid_plot_types\u001B[0m\u001B[1;33m(\u001B[0m\u001B[0mconfig\u001B[0m\u001B[1;33m[\u001B[0m\u001B[1;34m'type'\u001B[0m\u001B[1;33m]\u001B[0m\u001B[1;33m)\u001B[0m\u001B[1;33m\u001B[0m\u001B[1;33m\u001B[0m\u001B[0m\n\u001B[0;32m    297\u001B[0m \u001B[1;33m\u001B[0m\u001B[0m\n\u001B[1;32m--> 298\u001B[1;33m     \u001B[0mdates\u001B[0m\u001B[1;33m,\u001B[0m\u001B[0mopens\u001B[0m\u001B[1;33m,\u001B[0m\u001B[0mhighs\u001B[0m\u001B[1;33m,\u001B[0m\u001B[0mlows\u001B[0m\u001B[1;33m,\u001B[0m\u001B[0mcloses\u001B[0m\u001B[1;33m,\u001B[0m\u001B[0mvolumes\u001B[0m \u001B[1;33m=\u001B[0m \u001B[0m_check_and_prepare_data\u001B[0m\u001B[1;33m(\u001B[0m\u001B[0mdata\u001B[0m\u001B[1;33m,\u001B[0m \u001B[0mconfig\u001B[0m\u001B[1;33m)\u001B[0m\u001B[1;33m\u001B[0m\u001B[1;33m\u001B[0m\u001B[0m\n\u001B[0m\u001B[0;32m    299\u001B[0m \u001B[1;33m\u001B[0m\u001B[0m\n\u001B[0;32m    300\u001B[0m     \u001B[0mconfig\u001B[0m\u001B[1;33m[\u001B[0m\u001B[1;34m'xlim'\u001B[0m\u001B[1;33m]\u001B[0m \u001B[1;33m=\u001B[0m \u001B[0m_check_and_convert_xlim_configuration\u001B[0m\u001B[1;33m(\u001B[0m\u001B[0mdata\u001B[0m\u001B[1;33m,\u001B[0m \u001B[0mconfig\u001B[0m\u001B[1;33m)\u001B[0m\u001B[1;33m\u001B[0m\u001B[1;33m\u001B[0m\u001B[0m\n",
      "\u001B[1;32mD:\\0ilraypan\\python_work\\env\\abu\\lib\\site-packages\\mplfinance\\_arg_validators.py\u001B[0m in \u001B[0;36m_check_and_prepare_data\u001B[1;34m(data, config)\u001B[0m\n\u001B[0;32m     28\u001B[0m \u001B[1;33m\u001B[0m\u001B[0m\n\u001B[0;32m     29\u001B[0m     \u001B[1;32mif\u001B[0m \u001B[1;32mnot\u001B[0m \u001B[0misinstance\u001B[0m\u001B[1;33m(\u001B[0m\u001B[0mdata\u001B[0m\u001B[1;33m.\u001B[0m\u001B[0mindex\u001B[0m\u001B[1;33m,\u001B[0m\u001B[0mpd\u001B[0m\u001B[1;33m.\u001B[0m\u001B[0mcore\u001B[0m\u001B[1;33m.\u001B[0m\u001B[0mindexes\u001B[0m\u001B[1;33m.\u001B[0m\u001B[0mdatetimes\u001B[0m\u001B[1;33m.\u001B[0m\u001B[0mDatetimeIndex\u001B[0m\u001B[1;33m)\u001B[0m\u001B[1;33m:\u001B[0m\u001B[1;33m\u001B[0m\u001B[1;33m\u001B[0m\u001B[0m\n\u001B[1;32m---> 30\u001B[1;33m         \u001B[1;32mraise\u001B[0m \u001B[0mTypeError\u001B[0m\u001B[1;33m(\u001B[0m\u001B[1;34m'Expect data.index as DatetimeIndex'\u001B[0m\u001B[1;33m)\u001B[0m\u001B[1;33m\u001B[0m\u001B[1;33m\u001B[0m\u001B[0m\n\u001B[0m\u001B[0;32m     31\u001B[0m \u001B[1;33m\u001B[0m\u001B[0m\n\u001B[0;32m     32\u001B[0m     if (len(data.index) > config['warn_too_much_data'] and\n",
      "\u001B[1;31mTypeError\u001B[0m: Expect data.index as DatetimeIndex"
     ]
    }
   ],
   "source": [
    "import mplfinance as mpf\n",
    "data = df\n",
    "mpf.plot(data)\n",
    "\n"
   ],
   "metadata": {
    "collapsed": false,
    "pycharm": {
     "name": "#%%\n"
    }
   }
  },
  {
   "cell_type": "code",
   "execution_count": 2,
   "outputs": [
    {
     "data": {
      "text/plain": "0   2016-05-03 13:30:58.000\n1   2016-05-03 13:30:58.100\n2   2016-05-03 13:30:58.200\ndtype: datetime64[ns]"
     },
     "execution_count": 2,
     "metadata": {},
     "output_type": "execute_result"
    }
   ],
   "source": [
    "import pandas as pd\n",
    "nanos = pd.Series([1462282258000000000, 1462282258100000000, 1462282258200000000])\n",
    "pd.to_datetime(nanos)\n"
   ],
   "metadata": {
    "collapsed": false,
    "pycharm": {
     "name": "#%%\n"
    }
   }
  },
  {
   "cell_type": "code",
   "execution_count": 3,
   "outputs": [
    {
     "data": {
      "text/plain": "DatetimeIndex([       '2016-05-03 13:30:58', '2016-05-03 13:30:58.100000',\n               '2016-05-03 13:30:58.200000'],\n              dtype='datetime64[ns]', freq=None)"
     },
     "execution_count": 3,
     "metadata": {},
     "output_type": "execute_result"
    }
   ],
   "source": [
    "pd.DatetimeIndex(nanos)\n"
   ],
   "metadata": {
    "collapsed": false,
    "pycharm": {
     "name": "#%%\n"
    }
   }
  },
  {
   "cell_type": "code",
   "execution_count": 4,
   "outputs": [
    {
     "data": {
      "text/plain": "DatetimeIndex([       '2016-05-03 13:30:58+00:00',\n               '2016-05-03 13:30:58.100000+00:00',\n               '2016-05-03 13:30:58.200000+00:00'],\n              dtype='datetime64[ns, UTC]', freq=None)"
     },
     "execution_count": 4,
     "metadata": {},
     "output_type": "execute_result"
    }
   ],
   "source": [
    "pd.DatetimeIndex(nanos).tz_localize('UTC')"
   ],
   "metadata": {
    "collapsed": false,
    "pycharm": {
     "name": "#%%\n"
    }
   }
  },
  {
   "cell_type": "code",
   "execution_count": null,
   "outputs": [],
   "source": [],
   "metadata": {
    "collapsed": false,
    "pycharm": {
     "name": "#%%\n"
    }
   }
  }
 ],
 "metadata": {
  "kernelspec": {
   "display_name": "Python 3",
   "language": "python",
   "name": "python3"
  },
  "language_info": {
   "codemirror_mode": {
    "name": "ipython",
    "version": 2
   },
   "file_extension": ".py",
   "mimetype": "text/x-python",
   "name": "python",
   "nbconvert_exporter": "python",
   "pygments_lexer": "ipython2",
   "version": "2.7.6"
  }
 },
 "nbformat": 4,
 "nbformat_minor": 0
}