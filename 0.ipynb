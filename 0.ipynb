{
 "cells": [
  {
   "cell_type": "code",
   "execution_count": 1,
   "metadata": {
    "collapsed": true
   },
   "outputs": [],
   "source": [
    "!pip freeze > requirements.txt\n",
    "!conda env export > environment.yaml"
   ]
  },
  {
   "cell_type": "raw",
   "source": [
    "#conda env create -f environment.yaml"
   ],
   "metadata": {
    "collapsed": false,
    "pycharm": {
     "name": "#%% raw\n"
    }
   }
  },
  {
   "cell_type": "code",
   "execution_count": 2,
   "outputs": [
    {
     "name": "stdout",
     "output_type": "stream",
     "text": [
      "alabaster (0.7.10)\n",
      "anaconda-client (1.6.3)\n",
      "anaconda-navigator (1.6.2)\n",
      "anaconda-project (0.6.0)\n",
      "asn1crypto (0.22.0)\n",
      "astroid (1.4.9)\n",
      "astropy (1.3.2)\n",
      "Babel (2.4.0)\n",
      "backports.shutil-get-terminal-size (1.0.0)\n",
      "beautifulsoup4 (4.6.0)\n",
      "bitarray (0.8.1)\n",
      "blaze (0.10.1)\n",
      "bleach (1.5.0)\n",
      "bokeh (0.12.5)\n",
      "boto (2.46.1)\n",
      "Bottleneck (1.2.1)\n",
      "cffi (1.10.0)\n",
      "chardet (3.0.3)\n",
      "click (6.7)\n",
      "cloudpickle (0.2.2)\n",
      "clyent (1.2.2)\n",
      "colorama (0.3.9)\n",
      "comtypes (1.1.2)\n",
      "conda (4.3.21)\n",
      "contextlib2 (0.5.5)\n",
      "cryptography (1.8.1)\n",
      "cycler (0.10.0)\n",
      "Cython (0.25.2)\n",
      "cytoolz (0.8.2)\n",
      "dask (0.14.3)\n",
      "datashape (0.5.4)\n",
      "decorator (4.0.11)\n",
      "distributed (1.16.3)\n",
      "docutils (0.13.1)\n",
      "entrypoints (0.2.2)\n",
      "et-xmlfile (1.0.1)\n",
      "fastcache (1.0.2)\n",
      "ffn (0.3.5)\n",
      "Flask (0.12.2)\n",
      "Flask-Cors (3.0.2)\n",
      "future (0.18.2)\n",
      "gevent (1.2.1)\n",
      "greenlet (0.4.12)\n",
      "h5py (2.7.0)\n",
      "HeapDict (1.0.0)\n",
      "html5lib (0.999)\n",
      "idna (2.5)\n",
      "imagesize (0.7.1)\n",
      "ipykernel (4.6.1)\n",
      "ipython (5.3.0)\n",
      "ipython-genutils (0.2.0)\n",
      "ipywidgets (6.0.0)\n",
      "isort (4.2.5)\n",
      "itsdangerous (0.24)\n",
      "jdcal (1.3)\n",
      "jedi (0.10.2)\n",
      "Jinja2 (2.9.6)\n",
      "jsonschema (2.6.0)\n",
      "jupyter (1.0.0)\n",
      "jupyter-client (5.0.1)\n",
      "jupyter-console (5.1.0)\n",
      "jupyter-core (4.3.0)\n",
      "lazy-object-proxy (1.2.2)\n",
      "llvmlite (0.18.0)\n",
      "locket (0.2.0)\n",
      "lxml (3.7.3)\n",
      "MarkupSafe (0.23)\n",
      "matplotlib (2.0.2)\n",
      "menuinst (1.4.7)\n",
      "mistune (0.7.4)\n",
      "mpmath (0.19)\n",
      "msgpack-python (0.4.8)\n",
      "multipledispatch (0.4.9)\n",
      "navigator-updater (0.1.0)\n",
      "nbconvert (5.1.1)\n",
      "nbformat (4.3.0)\n",
      "networkx (1.11)\n",
      "nltk (3.2.3)\n",
      "nose (1.3.7)\n",
      "notebook (5.0.0)\n",
      "numba (0.33.0)\n",
      "numexpr (2.6.2)\n",
      "numpy (1.12.1)\n",
      "numpydoc (0.6.0)\n",
      "odo (0.5.0)\n",
      "olefile (0.44)\n",
      "openpyxl (2.4.7)\n",
      "packaging (16.8)\n",
      "pandas (0.20.1)\n",
      "pandas-datareader (0.9.0)\n",
      "pandocfilters (1.4.1)\n",
      "partd (0.3.8)\n",
      "path.py (10.3.1)\n",
      "pathlib2 (2.2.1)\n",
      "patsy (0.4.1)\n",
      "pep8 (1.7.0)\n",
      "pickleshare (0.7.4)\n",
      "Pillow (4.1.1)\n",
      "pip (9.0.1)\n",
      "ply (3.10)\n",
      "prompt-toolkit (1.0.14)\n",
      "psutil (5.2.2)\n",
      "py (1.4.33)\n",
      "pycosat (0.6.2)\n",
      "pycparser (2.17)\n",
      "pycrypto (2.6.1)\n",
      "pycurl (7.43.0)\n",
      "pyflakes (1.5.0)\n",
      "Pygments (2.2.0)\n",
      "pylint (1.6.4)\n",
      "pyodbc (4.0.16)\n",
      "pyOpenSSL (17.0.0)\n",
      "pyparsing (2.1.4)\n",
      "pytest (3.0.7)\n",
      "python-dateutil (2.6.0)\n",
      "pytz (2017.2)\n",
      "PyWavelets (0.5.2)\n",
      "pywin32 (220)\n",
      "PyYAML (3.12)\n",
      "pyzmq (16.0.2)\n",
      "QtAwesome (0.4.4)\n",
      "qtconsole (4.3.0)\n",
      "QtPy (1.2.1)\n",
      "requests (2.14.2)\n",
      "rope-py3k (0.9.4.post1)\n",
      "scikit-image (0.13.0)\n",
      "scikit-learn (0.18.1)\n",
      "scipy (0.19.0)\n",
      "seaborn (0.7.1)\n",
      "setuptools (27.2.0)\n",
      "simplegeneric (0.8.1)\n",
      "singledispatch (3.4.0.3)\n",
      "six (1.10.0)\n",
      "snowballstemmer (1.2.1)\n",
      "sortedcollections (0.5.3)\n",
      "sortedcontainers (1.5.7)\n",
      "sphinx (1.5.6)\n",
      "spyder (3.1.4)\n",
      "SQLAlchemy (1.1.9)\n",
      "statsmodels (0.8.0)\n",
      "sympy (1.0)\n",
      "tables (3.2.2)\n",
      "tabulate (0.8.9)\n",
      "tblib (1.3.2)\n",
      "testpath (0.3)\n",
      "toolz (0.8.2)\n",
      "tornado (4.5.1)\n",
      "traitlets (4.3.2)\n",
      "unicodecsv (0.14.1)\n",
      "wcwidth (0.1.7)\n",
      "Werkzeug (0.12.2)\n",
      "wheel (0.29.0)\n",
      "widgetsnbextension (2.0.0)\n",
      "win-unicode-console (0.5)\n",
      "wrapt (1.10.10)\n",
      "xlrd (1.0.0)\n",
      "XlsxWriter (0.9.6)\n",
      "xlwings (0.10.4)\n",
      "xlwt (1.2.0)\n",
      "zict (0.1.2)\n"
     ]
    },
    {
     "name": "stderr",
     "output_type": "stream",
     "text": [
      "DEPRECATION: The default format will switch to columns in the future. You can use --format=(legacy|columns) (or define a format=(legacy|columns) in your pip.conf under the [list] section) to disable this warning.\n",
      "You are using pip version 9.0.1, however version 21.3.1 is available.\n",
      "You should consider upgrading via the 'python -m pip install --upgrade pip' command.\n"
     ]
    }
   ],
   "source": [
    "import os\n",
    "os.environ[\"http_proxy\"] = \"http://192.168.5.1:7890\"\n",
    "os.environ[\"https_proxy\"] = \"http://192.168.5.1:7890\"\n",
    "\n",
    "!pip list"
   ],
   "metadata": {
    "collapsed": false,
    "pycharm": {
     "name": "#%%\n"
    }
   }
  },
  {
   "cell_type": "code",
   "execution_count": 4,
   "outputs": [
    {
     "data": {
      "text/plain": "1"
     },
     "execution_count": 4,
     "metadata": {},
     "output_type": "execute_result"
    }
   ],
   "source": [
    "import win32api,win32con\n",
    "##提醒OK消息框\n",
    "win32api.MessageBox(0, \"运行完成\", \"提醒\",win32con.MB_ICONWARNING)\n"
   ],
   "metadata": {
    "collapsed": false,
    "pycharm": {
     "name": "#%%\n"
    }
   }
  },
  {
   "cell_type": "code",
   "execution_count": null,
   "outputs": [],
   "source": [],
   "metadata": {
    "collapsed": false,
    "pycharm": {
     "name": "#%%\n",
     "is_executing": true
    }
   }
  },
  {
   "cell_type": "code",
   "execution_count": null,
   "outputs": [],
   "source": [
    "import os\n",
    "os.environ[\"http_proxy\"] = \"http://192.168.5.1:7890\"\n",
    "os.environ[\"https_proxy\"] = \"http://192.168.5.1:7890\"\n",
    "\n",
    "!pip install numpy==1.12.1\n"
   ],
   "metadata": {
    "collapsed": false,
    "pycharm": {
     "name": "#%%\n"
    }
   }
  },
  {
   "cell_type": "code",
   "execution_count": null,
   "outputs": [],
   "source": [
    "import pandas as pd\n",
    "import numpy as np\n",
    "df=pd.read_csv(r'D:\\0ilraypan\\git_jia\\python_abu\\11.csv',header=None,sep=' ') #filename可以直接从盘符开始，标明每一级的文件夹直到csv文件，header=None表示头部为空，sep=' '表示数据间使用空格作为分隔符，如果分隔符是逗号，只需换成 ‘，’即可。\n",
    "print(df.head())\n",
    "print(df.tail())\n",
    "#作为示例，输出CSV文件的前5行和最后5行，这是pandas默认的输出5行，可以根据需要自己设定输出几行的值"
   ],
   "metadata": {
    "collapsed": false,
    "pycharm": {
     "name": "#%%\n"
    }
   }
  },
  {
   "cell_type": "code",
   "execution_count": null,
   "outputs": [],
   "source": [
    "import mplfinance as mpf\n",
    "data = df\n",
    "mpf.plot(data)\n",
    "\n"
   ],
   "metadata": {
    "collapsed": false,
    "pycharm": {
     "name": "#%%\n"
    }
   }
  },
  {
   "cell_type": "code",
   "execution_count": null,
   "outputs": [],
   "source": [
    "import pandas as pd\n",
    "nanos = pd.Series([1462282258000000000, 1462282258100000000, 1462282258200000000])\n",
    "pd.to_datetime(nanos)\n"
   ],
   "metadata": {
    "collapsed": false,
    "pycharm": {
     "name": "#%%\n"
    }
   }
  },
  {
   "cell_type": "code",
   "execution_count": null,
   "outputs": [],
   "source": [
    "pd.DatetimeIndex(nanos)\n"
   ],
   "metadata": {
    "collapsed": false,
    "pycharm": {
     "name": "#%%\n"
    }
   }
  },
  {
   "cell_type": "code",
   "execution_count": null,
   "outputs": [],
   "source": [
    "pd.DatetimeIndex(nanos).tz_localize('UTC')"
   ],
   "metadata": {
    "collapsed": false,
    "pycharm": {
     "name": "#%%\n"
    }
   }
  },
  {
   "cell_type": "code",
   "execution_count": null,
   "outputs": [],
   "source": [
    "!conda create -n abu --clone root"
   ],
   "metadata": {
    "collapsed": false,
    "pycharm": {
     "name": "#%%\n"
    }
   }
  },
  {
   "cell_type": "code",
   "execution_count": 1,
   "outputs": [],
   "source": [
    "import os\n",
    "import math\n",
    "import random\n",
    "filePrefix = 'data_'   #文件前缀\n",
    "fileSuffix = '.in'    #文件后缀\n",
    "for i in range(100):\n",
    "    filename = filePrefix+str(i)+fileSuffix\n",
    "    e1 = random.randint(1,10)\t#Mate1的介电常数\n",
    "    e2 = random.randint(1,10)\t#Mate2的介电常数\n",
    "    x = random.uniform(0.20,0.70)#目标的中心ｘ坐标\n",
    "    x = round(x,2)\n",
    "    y = random.uniform(0.10,0.40)#目标的中心y坐标\n",
    "    y = round(y,2)\n",
    "    Twindows = (0.2*math.sqrt(e1)+0.24*math.sqrt(e2))/3e8*2\n",
    "    # Twindows = round(Twindows,2)\n",
    "    fl = open(filename,'w')\n",
    "    fl.write('#title: '+filename+'\\n')\n",
    "    fl.write('#domain: 1 0.5 0.002\\n')\n",
    "    fl.write('#dx_dy_dz: 0.002 0.002 0.002\\n')\n",
    "    fl.write('时间窗可手动修改\\n')\n",
    "    fl.write('#time_window: '+str(Twindows)+'\\n')\n",
    "    fl.write('以下参数可手动修改\\n\\n')\n",
    "    fl.write('#material: '+str(e1)+' 0 1 0 Mate1\\n'\n",
    "             '#material: '+str(e2)+' 0 1 0 Mate2\\n\\n'\n",
    "             '#waveform: ricker 1 1.5e9 my_ricker\\n'\n",
    "             '#hertzian_dipole: z 0.05 0.49 0 my_ricker\\n\\n'\n",
    "             '#rx: 0.055 0.49 0\\n\\n'\n",
    "             '#src_steps: 0.01 0 0\\n'\n",
    "             '#rx_steps: 0.01 0 0\\n\\n'\n",
    "             '#box: 0 0.24 0 1 0.44 0.002 Mate1\\n'\n",
    "             '#box: 0 0 0 1 0.24 0.002 Mate2\\n'\n",
    "             '#cylindrical_sector: z '+str(x)+' '+str(y)+' 0 0.002 0.02 180 180 pec\\n\\n'\n",
    "             'geometry_view: 0 0 0 1 0.5 0.002 0.002 0.002 0.002 mytest n\\n')\n",
    "fl.close()\n"
   ],
   "metadata": {
    "collapsed": false,
    "pycharm": {
     "name": "#%%\n"
    }
   }
  }
 ],
 "metadata": {
  "kernelspec": {
   "display_name": "Python 3",
   "language": "python",
   "name": "python3"
  },
  "language_info": {
   "codemirror_mode": {
    "name": "ipython",
    "version": 2
   },
   "file_extension": ".py",
   "mimetype": "text/x-python",
   "name": "python",
   "nbconvert_exporter": "python",
   "pygments_lexer": "ipython2",
   "version": "2.7.6"
  }
 },
 "nbformat": 4,
 "nbformat_minor": 0
}